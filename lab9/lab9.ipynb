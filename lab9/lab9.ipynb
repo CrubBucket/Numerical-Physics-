{
 "cells": [
  {
   "cell_type": "code",
   "execution_count": 1,
   "id": "b05a3657",
   "metadata": {},
   "outputs": [],
   "source": [
    "import numpy as np\n",
    "import matplotlib as plt\n",
    "import pandas as pd"
   ]
  },
  {
   "cell_type": "code",
   "execution_count": null,
   "id": "8a5e78c2",
   "metadata": {},
   "outputs": [],
   "source": [
    "def Adams(x, f, u_0):\n",
    "    y = np.zeros(len(x))\n",
    "    y[0] = u_0\n",
    "    \n",
    "    for i in range(4):\n",
    "        "
   ]
  },
  {
   "cell_type": "code",
   "execution_count": 6,
   "id": "f3443044",
   "metadata": {},
   "outputs": [
    {
     "name": "stdout",
     "output_type": "stream",
     "text": [
      "1\n"
     ]
    }
   ],
   "source": [
    "if not None:\n",
    "    print(1)"
   ]
  },
  {
   "cell_type": "code",
   "execution_count": 7,
   "id": "e022d30d",
   "metadata": {},
   "outputs": [],
   "source": [
    "y1 = np.array([1, 2, 3])\n",
    "y2 = np.array([4, 5, 6])\n",
    "\n",
    "y = np.append(y1, y2)"
   ]
  },
  {
   "cell_type": "code",
   "execution_count": 8,
   "id": "3047885f",
   "metadata": {},
   "outputs": [
    {
     "data": {
      "text/plain": [
       "array([1, 2, 3, 4, 5, 6])"
      ]
     },
     "execution_count": 8,
     "metadata": {},
     "output_type": "execute_result"
    }
   ],
   "source": [
    "y"
   ]
  },
  {
   "cell_type": "code",
   "execution_count": 9,
   "id": "11e67daa",
   "metadata": {},
   "outputs": [
    {
     "data": {
      "text/plain": [
       "tuple"
      ]
     },
     "execution_count": 9,
     "metadata": {},
     "output_type": "execute_result"
    }
   ],
   "source": [
    "buffer = 1, 2\n",
    "type(buffer)"
   ]
  },
  {
   "cell_type": "code",
   "execution_count": 10,
   "id": "7b0426f2",
   "metadata": {},
   "outputs": [
    {
     "data": {
      "text/plain": [
       "0.0001"
      ]
     },
     "execution_count": 10,
     "metadata": {},
     "output_type": "execute_result"
    }
   ],
   "source": [
    "1e-4"
   ]
  },
  {
   "cell_type": "code",
   "execution_count": null,
   "id": "268e9fad",
   "metadata": {},
   "outputs": [],
   "source": []
  }
 ],
 "metadata": {
  "kernelspec": {
   "display_name": "Python 3 (ipykernel)",
   "language": "python",
   "name": "python3"
  },
  "language_info": {
   "codemirror_mode": {
    "name": "ipython",
    "version": 3
   },
   "file_extension": ".py",
   "mimetype": "text/x-python",
   "name": "python",
   "nbconvert_exporter": "python",
   "pygments_lexer": "ipython3",
   "version": "3.10.2"
  }
 },
 "nbformat": 4,
 "nbformat_minor": 5
}

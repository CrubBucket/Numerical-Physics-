{
 "cells": [
  {
   "cell_type": "code",
   "execution_count": 1,
   "id": "480b8fe8",
   "metadata": {},
   "outputs": [],
   "source": [
    "import numpy as np\n",
    "from matplotlib import pyplot as plt"
   ]
  },
  {
   "cell_type": "code",
   "execution_count": 2,
   "id": "7f917e0f",
   "metadata": {},
   "outputs": [
    {
     "ename": "SyntaxError",
     "evalue": "expected ':' (3531228598.py, line 1)",
     "output_type": "error",
     "traceback": [
      "\u001b[1;36m  Cell \u001b[1;32mIn [2], line 1\u001b[1;36m\u001b[0m\n\u001b[1;33m    def rectangles()\u001b[0m\n\u001b[1;37m                    ^\u001b[0m\n\u001b[1;31mSyntaxError\u001b[0m\u001b[1;31m:\u001b[0m expected ':'\n"
     ]
    }
   ],
   "source": [
    "def rectangles(func, grid):  # for x1, x2 in zip(grid[:-1], grid[1:]):\n",
    "    area = 0\n",
    "    for i in range(1, len(grid)):\n",
    "        area += func((grid[i-1]+grid[i])/2) * (grid[i] - grid[i-1])\n",
    "    return area"
   ]
  },
  {
   "cell_type": "code",
   "execution_count": null,
   "id": "436a9f63",
   "metadata": {},
   "outputs": [],
   "source": [
    "def trapezoids(func, grid):\n",
    "    area = 0\n",
    "    for x1, x2 in zip(grid[:-1], grid[1:]):\n",
    "        area = ((func(x1) + func(x2)) / 2) * (x2 - x1)\n",
    "    return area"
   ]
  },
  {
   "cell_type": "code",
   "execution_count": null,
   "id": "b0a4acb4",
   "metadata": {},
   "outputs": [],
   "source": [
    "def gomer(func, grid):\n",
    "    area = 0\n",
    "    for x1, x2 in zip(grid[:-1], grid[1:]):\n",
    "        # your code here"
   ]
  },
  {
   "cell_type": "code",
   "execution_count": null,
   "id": "d77d1f93",
   "metadata": {},
   "outputs": [],
   "source": [
    "def lewis_fry()"
   ]
  }
 ],
 "metadata": {
  "kernelspec": {
   "display_name": "Python 3 (ipykernel)",
   "language": "python",
   "name": "python3"
  },
  "language_info": {
   "codemirror_mode": {
    "name": "ipython",
    "version": 3
   },
   "file_extension": ".py",
   "mimetype": "text/x-python",
   "name": "python",
   "nbconvert_exporter": "python",
   "pygments_lexer": "ipython3",
   "version": "3.9.2"
  }
 },
 "nbformat": 4,
 "nbformat_minor": 5
}

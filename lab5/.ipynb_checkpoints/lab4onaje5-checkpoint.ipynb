{
 "cells": [
  {
   "cell_type": "markdown",
   "id": "bdfa3748",
   "metadata": {},
   "source": [
    "# Л.р. 5 Гаврилюк Ермаков Вариант 2"
   ]
  },
  {
   "cell_type": "code",
   "execution_count": 12,
   "id": "480b8fe8",
   "metadata": {},
   "outputs": [],
   "source": [
    "import numpy as np\n",
    "from matplotlib import pyplot as plt\n",
    "import pandas as pd"
   ]
  },
  {
   "cell_type": "markdown",
   "id": "251e45a6",
   "metadata": {},
   "source": [
    "#### Определение подынтегральной функции"
   ]
  },
  {
   "cell_type": "code",
   "execution_count": 2,
   "id": "eab01d53",
   "metadata": {},
   "outputs": [],
   "source": [
    "func = lambda x: x * np.sin(x)"
   ]
  },
  {
   "cell_type": "markdown",
   "id": "332e7a30",
   "metadata": {},
   "source": [
    "#### Определение методов численного интегрирования "
   ]
  },
  {
   "cell_type": "code",
   "execution_count": 3,
   "id": "7f917e0f",
   "metadata": {},
   "outputs": [],
   "source": [
    "def rectangles(func, grid):  # Метод центральных прямоугольников\n",
    "    area = 0\n",
    "    for i in range(1, len(grid)):\n",
    "        area += func((grid[i-1]+grid[i])/2) * (grid[i] - grid[i-1])\n",
    "    return area"
   ]
  },
  {
   "cell_type": "code",
   "execution_count": 4,
   "id": "436a9f63",
   "metadata": {},
   "outputs": [],
   "source": [
    "def trapezoids(func, grid): # Метод трапеций\n",
    "    area = 0\n",
    "    for x1, x2 in zip(grid[:-1], grid[1:]):\n",
    "        area += ((func(x1) + func(x2)) / 2) * (x2 - x1)\n",
    "    return area"
   ]
  },
  {
   "cell_type": "code",
   "execution_count": 5,
   "id": "b0a4acb4",
   "metadata": {},
   "outputs": [],
   "source": [
    "def gomer(func, grid): # Метод Симпсона\n",
    "    area = 0\n",
    "    h = (grid[1] - grid[0])\n",
    "    for i in range(1, len(grid) - 1, 2):\n",
    "        area += h / 3 * (func(grid[i-1]) + func(grid[i+1]) + 4 * func(grid[i]))\n",
    "    return area"
   ]
  },
  {
   "cell_type": "code",
   "execution_count": 6,
   "id": "d77d1f93",
   "metadata": {},
   "outputs": [],
   "source": [
    "def lewis_fry(func, grids, method): # Экстраполяция Ричардсона\n",
    "    grid1, grid2, grid4 = grids\n",
    "    multi = (method(func, grid4) - method(func, grid2)) / (method(func, grid2) - method(func, grid1))\n",
    "    return (multi * method(func, grid1) - method(func, grid2)) / (multi - 1)"
   ]
  },
  {
   "cell_type": "markdown",
   "id": "3f43fb55",
   "metadata": {},
   "source": [
    "#### Генератор сетки"
   ]
  },
  {
   "cell_type": "code",
   "execution_count": 7,
   "id": "a9b27d5c",
   "metadata": {},
   "outputs": [],
   "source": [
    "def grids_generator(a, b, h):\n",
    "    return (np.arange(a, b + h, h), np.arange(a, b + h, 2*h), np.arange(a, b + h, 4*h))"
   ]
  },
  {
   "cell_type": "markdown",
   "id": "1f9a36e3",
   "metadata": {},
   "source": [
    "#### Сравнение результатов"
   ]
  },
  {
   "cell_type": "code",
   "execution_count": 22,
   "id": "e2b8ead6",
   "metadata": {},
   "outputs": [
    {
     "name": "stdout",
     "output_type": "stream",
     "text": [
      "Метод центральных прямоугольников выдал S = 3.4894320998194397 с шагом h = 1.5707963267948966\n",
      "Метод трапеций выдал S = 2.4674011002723395 с шагом h = 1.5707963267948966\n",
      "Метод Симпсона выдал S = 3.2898681336964524 с шагом h = 1.5707963267948966\n",
      "Экстраполяция Ричардсона выдала S = 3.8168675716882277 с шагом h = 1.5707963267948966\n",
      "-------------------------------------------------------------\n",
      "Метод центральных прямоугольников выдал S = 3.223814897111062 с шагом h = 0.7853981633974483\n",
      "Метод трапеций выдал S = 2.97841660004589 с шагом h = 0.7853981633974483\n",
      "Метод Симпсона выдал S = 3.148755099970406 с шагом h = 0.7853981633974483\n",
      "Экстраполяция Ричардсона выдала S = 3.164012121043955 с шагом h = 0.7853981633974483\n",
      "-------------------------------------------------------------\n",
      "Метод центральных прямоугольников выдал S = 3.177768595422821 с шагом h = 0.5235987755982988\n",
      "Метод трапеций выдал S = 3.0694887562892403 с шагом h = 0.5235987755982988\n",
      "Метод Симпсона выдал S = 3.1429485487583113 с шагом h = 0.5235987755982988\n",
      "Экстраполяция Ричардсона выдала S = 3.186131851872151 с шагом h = 0.5235987755982988\n",
      "-------------------------------------------------------------\n",
      "Метод центральных прямоугольников выдал S = 3.1438367059242096 с шагом h = 0.1308996938995747\n",
      "Метод трапеций выдал S = 3.137105510211529 с шагом h = 0.1308996938995747\n",
      "Метод Симпсона выдал S = 3.1415977883300283 с шагом h = 0.1308996938995747\n",
      "Экстраполяция Ричардсона выдала S = 3.141610567087204 с шагом h = 0.1308996938995747\n",
      "-------------------------------------------------------------\n"
     ]
    }
   ],
   "source": [
    "h_es1 = [np.pi/24, np.pi/6, np.pi/4, np.pi/2]\n",
    "h_es = h_es1[::-1]\n",
    "\n",
    "res = {'Метод': ['Прямоугольников', 'Трапеций', 'Симпсона', 'Экстраполяция']}\n",
    "\n",
    "for h in h_es:\n",
    "    grids = grids_generator(0, np.pi, h)\n",
    "    print(f'Метод центральных прямоугольников выдал S = {rectangles(func, grids[0])} с шагом {h = }')\n",
    "    print(f'Метод трапеций выдал S = {trapezoids(func, grids[0])} с шагом {h = }')\n",
    "    print(f'Метод Симпсона выдал S = {gomer(func, grids[0])} с шагом {h = }')\n",
    "    print(f'Экстраполяция Ричардсона выдала S = {lewis_fry(func, grids, rectangles)} с шагом {h = }')\n",
    "    print('-------------------------------------------------------------')\n",
    "    \n",
    "    res[f'{h =}'] = []\n",
    "    res[f'{h =}'].append(rectangles(func, grids[0]))\n",
    "    res[f'{h =}'].append(trapezoids(func, grids[0]))\n",
    "    res[f'{h =}'].append(gomer(func, grids[0]))\n",
    "    res[f'{h =}'].append(lewis_fry(func, grids, rectangles))\n"
   ]
  },
  {
   "cell_type": "markdown",
   "id": "a8adcbfc",
   "metadata": {},
   "source": [
    "#### Сведём результаты в одну таблицу"
   ]
  },
  {
   "cell_type": "code",
   "execution_count": 23,
   "id": "ee6f2497",
   "metadata": {},
   "outputs": [
    {
     "data": {
      "text/html": [
       "<div>\n",
       "<style scoped>\n",
       "    .dataframe tbody tr th:only-of-type {\n",
       "        vertical-align: middle;\n",
       "    }\n",
       "\n",
       "    .dataframe tbody tr th {\n",
       "        vertical-align: top;\n",
       "    }\n",
       "\n",
       "    .dataframe thead th {\n",
       "        text-align: right;\n",
       "    }\n",
       "</style>\n",
       "<table border=\"1\" class=\"dataframe\">\n",
       "  <thead>\n",
       "    <tr style=\"text-align: right;\">\n",
       "      <th></th>\n",
       "      <th>h =1.5707963267948966</th>\n",
       "      <th>h =0.7853981633974483</th>\n",
       "      <th>h =0.5235987755982988</th>\n",
       "      <th>h =0.1308996938995747</th>\n",
       "    </tr>\n",
       "    <tr>\n",
       "      <th>Метод</th>\n",
       "      <th></th>\n",
       "      <th></th>\n",
       "      <th></th>\n",
       "      <th></th>\n",
       "    </tr>\n",
       "  </thead>\n",
       "  <tbody>\n",
       "    <tr>\n",
       "      <th>Прямоугольников</th>\n",
       "      <td>3.489432</td>\n",
       "      <td>3.223815</td>\n",
       "      <td>3.177769</td>\n",
       "      <td>3.143837</td>\n",
       "    </tr>\n",
       "    <tr>\n",
       "      <th>Трапеций</th>\n",
       "      <td>2.467401</td>\n",
       "      <td>2.978417</td>\n",
       "      <td>3.069489</td>\n",
       "      <td>3.137106</td>\n",
       "    </tr>\n",
       "    <tr>\n",
       "      <th>Симпсона</th>\n",
       "      <td>3.289868</td>\n",
       "      <td>3.148755</td>\n",
       "      <td>3.142949</td>\n",
       "      <td>3.141598</td>\n",
       "    </tr>\n",
       "    <tr>\n",
       "      <th>Экстраполяция</th>\n",
       "      <td>3.816868</td>\n",
       "      <td>3.164012</td>\n",
       "      <td>3.186132</td>\n",
       "      <td>3.141611</td>\n",
       "    </tr>\n",
       "  </tbody>\n",
       "</table>\n",
       "</div>"
      ],
      "text/plain": [
       "                 h =1.5707963267948966  h =0.7853981633974483  \\\n",
       "Метод                                                           \n",
       "Прямоугольников               3.489432               3.223815   \n",
       "Трапеций                      2.467401               2.978417   \n",
       "Симпсона                      3.289868               3.148755   \n",
       "Экстраполяция                 3.816868               3.164012   \n",
       "\n",
       "                 h =0.5235987755982988  h =0.1308996938995747  \n",
       "Метод                                                          \n",
       "Прямоугольников               3.177769               3.143837  \n",
       "Трапеций                      3.069489               3.137106  \n",
       "Симпсона                      3.142949               3.141598  \n",
       "Экстраполяция                 3.186132               3.141611  "
      ]
     },
     "execution_count": 23,
     "metadata": {},
     "output_type": "execute_result"
    }
   ],
   "source": [
    "df = pd.DataFrame(res)\n",
    "df.set_index('Метод', inplace=True)\n",
    "df"
   ]
  }
 ],
 "metadata": {
  "kernelspec": {
   "display_name": "Python 3 (ipykernel)",
   "language": "python",
   "name": "python3"
  },
  "language_info": {
   "codemirror_mode": {
    "name": "ipython",
    "version": 3
   },
   "file_extension": ".py",
   "mimetype": "text/x-python",
   "name": "python",
   "nbconvert_exporter": "python",
   "pygments_lexer": "ipython3",
   "version": "3.10.2"
  }
 },
 "nbformat": 4,
 "nbformat_minor": 5
}

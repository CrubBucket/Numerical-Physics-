{
 "cells": [
  {
   "cell_type": "code",
   "execution_count": 19,
   "id": "f00ae28d",
   "metadata": {},
   "outputs": [],
   "source": [
    "import numpy as np"
   ]
  },
  {
   "cell_type": "code",
   "execution_count": 20,
   "id": "0c930687",
   "metadata": {},
   "outputs": [],
   "source": [
    "f_1 = lambda x: np.exp(x)"
   ]
  },
  {
   "cell_type": "code",
   "execution_count": 21,
   "id": "b40b12a0",
   "metadata": {},
   "outputs": [],
   "source": [
    "f_2 = lambda x: np.sin(x)"
   ]
  },
  {
   "cell_type": "code",
   "execution_count": 22,
   "id": "ca1af749",
   "metadata": {},
   "outputs": [],
   "source": [
    "f_3 = lambda x: x * np.sin(x)"
   ]
  },
  {
   "cell_type": "code",
   "execution_count": 23,
   "id": "7164b098",
   "metadata": {},
   "outputs": [],
   "source": [
    "funcs = [f_1, f_2, f_3]"
   ]
  },
  {
   "cell_type": "code",
   "execution_count": 24,
   "id": "76e67067",
   "metadata": {},
   "outputs": [],
   "source": [
    "gamma = lambda: np.random.uniform(0, 1)"
   ]
  },
  {
   "cell_type": "code",
   "execution_count": 25,
   "id": "cd4fff27",
   "metadata": {},
   "outputs": [],
   "source": [
    "def tetta_1(f, ksi, a, b):\n",
    "    sum = 0\n",
    "    for i in ksi:\n",
    "        sum += f(i)\n",
    "    return (b - a) / len(ksi) * sum\n",
    "    "
   ]
  },
  {
   "cell_type": "code",
   "execution_count": 26,
   "id": "866089c7",
   "metadata": {},
   "outputs": [],
   "source": [
    "def tetta_2(f, tosses, a, b, c):\n",
    "    in_counter = 0\n",
    "    for toss in tosses:\n",
    "        if toss[1] < f(toss[0]):\n",
    "            in_counter += 1\n",
    "    return c * (b - a) * in_counter / len(tosses)"
   ]
  },
  {
   "cell_type": "code",
   "execution_count": 43,
   "id": "c8bbdea5",
   "metadata": {},
   "outputs": [],
   "source": [
    "def tetta_3(f, g, intergal_g, ksi, a, b):\n",
    "    sum = 0\n",
    "    for i in ksi:\n",
    "        sum += f(i) - g(i)\n",
    "    return (b - a) * sum / len(ksi) + intergal_g"
   ]
  },
  {
   "cell_type": "code",
   "execution_count": 93,
   "id": "ed3a70b2",
   "metadata": {},
   "outputs": [],
   "source": [
    "def tetta_4(f, ksi, p, a, b):\n",
    "    if p is None:\n",
    "        return\n",
    "    sum = 0\n",
    "    for i in ksi:\n",
    "        sum += f(i) * p(i)\n",
    "    return (b - a) / len(ksi) * sum"
   ]
  },
  {
   "cell_type": "code",
   "execution_count": 94,
   "id": "9232c45a",
   "metadata": {},
   "outputs": [],
   "source": [
    "def ksi_generator(n, a, b, c=np.nan, y=False):\n",
    "    if y:\n",
    "        ksi = np.random.rand(2*n).reshape(n, 2)\n",
    "        ksi[:, 0] *= b - a\n",
    "        ksi[:, 0] += a\n",
    "        ksi[:, 1] *= c\n",
    "        return ksi\n",
    "    return (b - a) * np.random.rand(n) + a"
   ]
  },
  {
   "cell_type": "code",
   "execution_count": 96,
   "id": "dcb9d6cb",
   "metadata": {},
   "outputs": [],
   "source": [
    "g1 = lambda x: 1 + x + (x * x) / 2 # 0 , 1\n",
    "g2 = lambda x: x - x**3 / 6 # 0, pi/2\n",
    "g3 = lambda x: x**2 - x**4 / 6 # 0, pi\n",
    "gs = [g1, g2, g3]"
   ]
  },
  {
   "cell_type": "code",
   "execution_count": 97,
   "id": "cc8b4325",
   "metadata": {},
   "outputs": [],
   "source": [
    "g_integrals = [5.0 / 3.0, np.pi**2 / 8 - np.pi**4 / 384, np.pi**3 / 3 - np.pi**5 / 30]"
   ]
  },
  {
   "cell_type": "code",
   "execution_count": 98,
   "id": "a531ede2",
   "metadata": {},
   "outputs": [],
   "source": [
    "p_sin = lambda x: 8 * x / np.pi**2\n",
    "p_exp = lambda x: np.exp(x) / (np.exp(1) - 1)\n",
    "ps = [p_sin, p_exp, None]"
   ]
  },
  {
   "cell_type": "code",
   "execution_count": 99,
   "id": "eb335c20",
   "metadata": {},
   "outputs": [],
   "source": [
    "names = ['exp(x)', 'sin(x)', 'x*sin(x)']"
   ]
  },
  {
   "cell_type": "code",
   "execution_count": 100,
   "id": "5c336115",
   "metadata": {},
   "outputs": [],
   "source": [
    "n = 100_000\n",
    "segments = [(0, 1), (0, np.pi / 2), (0, np.pi)]\n",
    "cs = [np.exp(1), 1, 2]"
   ]
  },
  {
   "cell_type": "code",
   "execution_count": 101,
   "id": "b6c0b9a8",
   "metadata": {},
   "outputs": [
    {
     "name": "stdout",
     "output_type": "stream",
     "text": [
      "Тетта1 для exp(x) = 1.720974982779766\n",
      "Тетта2 для exp(x) = 1.7178453843129782\n",
      "Тетта3 для exp(x) = 1.7182040202520859\n",
      "Тетта4 для exp(x) = 0.5721998587847461\n",
      "----------------------------------------------------------------\n",
      "Тетта1 для sin(x) = 1.0000228161210938\n",
      "Тетта2 для sin(x) = 0.9997961540416838\n",
      "Тетта3 для sin(x) = 0.9999396824771954\n",
      "Тетта4 для sin(x) = 4.291035212032749\n",
      "----------------------------------------------------------------\n",
      "Тетта1 для x*sin(x) = 3.143020434159499\n",
      "Тетта2 для x*sin(x) = 3.145551060333316\n",
      "Тетта3 для x*sin(x) = 3.1374033750569144\n",
      "Тетта4 для x*sin(x) = None\n",
      "----------------------------------------------------------------\n"
     ]
    }
   ],
   "source": [
    "for func, p, g, i, name, segment, c in zip(funcs, ps, gs, g_integrals, names, segments, cs):\n",
    "    print(f'Тетта1 для {name} = {tetta_1(func, ksi_generator(n, segment[0], segment[1]), segment[0], segment[1])}')\n",
    "    print(f'Тетта2 для {name} = {tetta_2(func, ksi_generator(n, segment[0], segment[1], c=c, y=True), segment[0], segment[1], c)}')\n",
    "    print(f'Тетта3 для {name} = {tetta_3(func, g, i, ksi_generator(n, segment[0], segment[1]), segment[0], segment[1])}')\n",
    "    print(f'Тетта4 для {name} = {tetta_4(func, ksi_generator(n, segment[0], segment[1]), p, segment[0], segment[1])}')\n",
    "    print('----------------------------------------------------------------')"
   ]
  },
  {
   "cell_type": "code",
   "execution_count": null,
   "id": "7112dea7",
   "metadata": {},
   "outputs": [],
   "source": []
  }
 ],
 "metadata": {
  "kernelspec": {
   "display_name": "Python 3 (ipykernel)",
   "language": "python",
   "name": "python3"
  },
  "language_info": {
   "codemirror_mode": {
    "name": "ipython",
    "version": 3
   },
   "file_extension": ".py",
   "mimetype": "text/x-python",
   "name": "python",
   "nbconvert_exporter": "python",
   "pygments_lexer": "ipython3",
   "version": "3.10.2"
  }
 },
 "nbformat": 4,
 "nbformat_minor": 5
}
